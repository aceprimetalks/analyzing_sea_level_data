{
 "cells": [
  {
   "cell_type": "code",
   "execution_count": 87,
   "id": "7272c4d4",
   "metadata": {},
   "outputs": [],
   "source": [
    "import numpy as np\n",
    "import pandas as pd\n",
    "import matplotlib.pyplot as plt\n",
    "\n",
    "\n",
    "from datetime import date\n"
   ]
  },
  {
   "cell_type": "markdown",
   "id": "dd1425d4",
   "metadata": {},
   "source": [
    "## Import the CSV file "
   ]
  },
  {
   "cell_type": "code",
   "execution_count": 57,
   "id": "7f571eb2",
   "metadata": {},
   "outputs": [],
   "source": [
    "df = pd.read_csv('Downloads/epa-sea-level.csv')"
   ]
  },
  {
   "cell_type": "markdown",
   "id": "a8de210b",
   "metadata": {},
   "source": [
    "## Get the general info about the data"
   ]
  },
  {
   "cell_type": "code",
   "execution_count": 58,
   "id": "1e8c5e2c",
   "metadata": {},
   "outputs": [
    {
     "name": "stdout",
     "output_type": "stream",
     "text": [
      "<class 'pandas.core.frame.DataFrame'>\n",
      "RangeIndex: 135 entries, 0 to 134\n",
      "Data columns (total 5 columns):\n",
      " #   Column                    Non-Null Count  Dtype  \n",
      "---  ------                    --------------  -----  \n",
      " 0   Year                      135 non-null    object \n",
      " 1   CSIRO Adjusted Sea Level  134 non-null    float64\n",
      " 2   Lower Error Bound         134 non-null    float64\n",
      " 3   Upper Error Bound         134 non-null    float64\n",
      " 4   NOAA Adjusted Sea Level   22 non-null     float64\n",
      "dtypes: float64(4), object(1)\n",
      "memory usage: 5.4+ KB\n"
     ]
    }
   ],
   "source": [
    "df.info()"
   ]
  },
  {
   "cell_type": "code",
   "execution_count": 59,
   "id": "8c1551a1",
   "metadata": {
    "scrolled": true
   },
   "outputs": [
    {
     "data": {
      "text/html": [
       "<div>\n",
       "<style scoped>\n",
       "    .dataframe tbody tr th:only-of-type {\n",
       "        vertical-align: middle;\n",
       "    }\n",
       "\n",
       "    .dataframe tbody tr th {\n",
       "        vertical-align: top;\n",
       "    }\n",
       "\n",
       "    .dataframe thead th {\n",
       "        text-align: right;\n",
       "    }\n",
       "</style>\n",
       "<table border=\"1\" class=\"dataframe\">\n",
       "  <thead>\n",
       "    <tr style=\"text-align: right;\">\n",
       "      <th></th>\n",
       "      <th>Year</th>\n",
       "      <th>CSIRO Adjusted Sea Level</th>\n",
       "      <th>Lower Error Bound</th>\n",
       "      <th>Upper Error Bound</th>\n",
       "      <th>NOAA Adjusted Sea Level</th>\n",
       "    </tr>\n",
       "  </thead>\n",
       "  <tbody>\n",
       "    <tr>\n",
       "      <th>0</th>\n",
       "      <td>1880-03-15</td>\n",
       "      <td>0.000000</td>\n",
       "      <td>-0.952756</td>\n",
       "      <td>0.952756</td>\n",
       "      <td>NaN</td>\n",
       "    </tr>\n",
       "    <tr>\n",
       "      <th>1</th>\n",
       "      <td>1881-03-15</td>\n",
       "      <td>0.220472</td>\n",
       "      <td>-0.732283</td>\n",
       "      <td>1.173228</td>\n",
       "      <td>NaN</td>\n",
       "    </tr>\n",
       "    <tr>\n",
       "      <th>2</th>\n",
       "      <td>1882-03-15</td>\n",
       "      <td>-0.440945</td>\n",
       "      <td>-1.346457</td>\n",
       "      <td>0.464567</td>\n",
       "      <td>NaN</td>\n",
       "    </tr>\n",
       "    <tr>\n",
       "      <th>3</th>\n",
       "      <td>1883-03-15</td>\n",
       "      <td>-0.232283</td>\n",
       "      <td>-1.129921</td>\n",
       "      <td>0.665354</td>\n",
       "      <td>NaN</td>\n",
       "    </tr>\n",
       "    <tr>\n",
       "      <th>4</th>\n",
       "      <td>1884-03-15</td>\n",
       "      <td>0.590551</td>\n",
       "      <td>-0.283465</td>\n",
       "      <td>1.464567</td>\n",
       "      <td>NaN</td>\n",
       "    </tr>\n",
       "    <tr>\n",
       "      <th>...</th>\n",
       "      <td>...</td>\n",
       "      <td>...</td>\n",
       "      <td>...</td>\n",
       "      <td>...</td>\n",
       "      <td>...</td>\n",
       "    </tr>\n",
       "    <tr>\n",
       "      <th>130</th>\n",
       "      <td>2010-03-15</td>\n",
       "      <td>8.901575</td>\n",
       "      <td>8.618110</td>\n",
       "      <td>9.185039</td>\n",
       "      <td>8.122973</td>\n",
       "    </tr>\n",
       "    <tr>\n",
       "      <th>131</th>\n",
       "      <td>2011-03-15</td>\n",
       "      <td>8.964567</td>\n",
       "      <td>8.661417</td>\n",
       "      <td>9.267717</td>\n",
       "      <td>8.053065</td>\n",
       "    </tr>\n",
       "    <tr>\n",
       "      <th>132</th>\n",
       "      <td>2012-03-15</td>\n",
       "      <td>9.326772</td>\n",
       "      <td>8.992126</td>\n",
       "      <td>9.661417</td>\n",
       "      <td>8.457058</td>\n",
       "    </tr>\n",
       "    <tr>\n",
       "      <th>133</th>\n",
       "      <td>2013-03-15</td>\n",
       "      <td>8.980315</td>\n",
       "      <td>8.622047</td>\n",
       "      <td>9.338583</td>\n",
       "      <td>8.546648</td>\n",
       "    </tr>\n",
       "    <tr>\n",
       "      <th>134</th>\n",
       "      <td>2014-03-15</td>\n",
       "      <td>NaN</td>\n",
       "      <td>NaN</td>\n",
       "      <td>NaN</td>\n",
       "      <td>8.663700</td>\n",
       "    </tr>\n",
       "  </tbody>\n",
       "</table>\n",
       "<p>135 rows × 5 columns</p>\n",
       "</div>"
      ],
      "text/plain": [
       "           Year  CSIRO Adjusted Sea Level  Lower Error Bound  \\\n",
       "0    1880-03-15                  0.000000          -0.952756   \n",
       "1    1881-03-15                  0.220472          -0.732283   \n",
       "2    1882-03-15                 -0.440945          -1.346457   \n",
       "3    1883-03-15                 -0.232283          -1.129921   \n",
       "4    1884-03-15                  0.590551          -0.283465   \n",
       "..          ...                       ...                ...   \n",
       "130  2010-03-15                  8.901575           8.618110   \n",
       "131  2011-03-15                  8.964567           8.661417   \n",
       "132  2012-03-15                  9.326772           8.992126   \n",
       "133  2013-03-15                  8.980315           8.622047   \n",
       "134  2014-03-15                       NaN                NaN   \n",
       "\n",
       "     Upper Error Bound  NOAA Adjusted Sea Level  \n",
       "0             0.952756                      NaN  \n",
       "1             1.173228                      NaN  \n",
       "2             0.464567                      NaN  \n",
       "3             0.665354                      NaN  \n",
       "4             1.464567                      NaN  \n",
       "..                 ...                      ...  \n",
       "130           9.185039                 8.122973  \n",
       "131           9.267717                 8.053065  \n",
       "132           9.661417                 8.457058  \n",
       "133           9.338583                 8.546648  \n",
       "134                NaN                 8.663700  \n",
       "\n",
       "[135 rows x 5 columns]"
      ]
     },
     "execution_count": 59,
     "metadata": {},
     "output_type": "execute_result"
    }
   ],
   "source": [
    "df"
   ]
  },
  {
   "cell_type": "markdown",
   "id": "75754be4",
   "metadata": {},
   "source": [
    "## checking for empty values\n",
    "we have to check for data points that are empty."
   ]
  },
  {
   "cell_type": "code",
   "execution_count": 23,
   "id": "14822e06",
   "metadata": {
    "scrolled": true
   },
   "outputs": [
    {
     "data": {
      "text/html": [
       "<div>\n",
       "<style scoped>\n",
       "    .dataframe tbody tr th:only-of-type {\n",
       "        vertical-align: middle;\n",
       "    }\n",
       "\n",
       "    .dataframe tbody tr th {\n",
       "        vertical-align: top;\n",
       "    }\n",
       "\n",
       "    .dataframe thead th {\n",
       "        text-align: right;\n",
       "    }\n",
       "</style>\n",
       "<table border=\"1\" class=\"dataframe\">\n",
       "  <thead>\n",
       "    <tr style=\"text-align: right;\">\n",
       "      <th></th>\n",
       "      <th>Year</th>\n",
       "      <th>CSIRO Adjusted Sea Level</th>\n",
       "      <th>Lower Error Bound</th>\n",
       "      <th>Upper Error Bound</th>\n",
       "      <th>NOAA Adjusted Sea Level</th>\n",
       "    </tr>\n",
       "  </thead>\n",
       "  <tbody>\n",
       "    <tr>\n",
       "      <th>0</th>\n",
       "      <td>False</td>\n",
       "      <td>False</td>\n",
       "      <td>False</td>\n",
       "      <td>False</td>\n",
       "      <td>True</td>\n",
       "    </tr>\n",
       "    <tr>\n",
       "      <th>1</th>\n",
       "      <td>False</td>\n",
       "      <td>False</td>\n",
       "      <td>False</td>\n",
       "      <td>False</td>\n",
       "      <td>True</td>\n",
       "    </tr>\n",
       "    <tr>\n",
       "      <th>2</th>\n",
       "      <td>False</td>\n",
       "      <td>False</td>\n",
       "      <td>False</td>\n",
       "      <td>False</td>\n",
       "      <td>True</td>\n",
       "    </tr>\n",
       "    <tr>\n",
       "      <th>3</th>\n",
       "      <td>False</td>\n",
       "      <td>False</td>\n",
       "      <td>False</td>\n",
       "      <td>False</td>\n",
       "      <td>True</td>\n",
       "    </tr>\n",
       "    <tr>\n",
       "      <th>4</th>\n",
       "      <td>False</td>\n",
       "      <td>False</td>\n",
       "      <td>False</td>\n",
       "      <td>False</td>\n",
       "      <td>True</td>\n",
       "    </tr>\n",
       "    <tr>\n",
       "      <th>...</th>\n",
       "      <td>...</td>\n",
       "      <td>...</td>\n",
       "      <td>...</td>\n",
       "      <td>...</td>\n",
       "      <td>...</td>\n",
       "    </tr>\n",
       "    <tr>\n",
       "      <th>130</th>\n",
       "      <td>False</td>\n",
       "      <td>False</td>\n",
       "      <td>False</td>\n",
       "      <td>False</td>\n",
       "      <td>False</td>\n",
       "    </tr>\n",
       "    <tr>\n",
       "      <th>131</th>\n",
       "      <td>False</td>\n",
       "      <td>False</td>\n",
       "      <td>False</td>\n",
       "      <td>False</td>\n",
       "      <td>False</td>\n",
       "    </tr>\n",
       "    <tr>\n",
       "      <th>132</th>\n",
       "      <td>False</td>\n",
       "      <td>False</td>\n",
       "      <td>False</td>\n",
       "      <td>False</td>\n",
       "      <td>False</td>\n",
       "    </tr>\n",
       "    <tr>\n",
       "      <th>133</th>\n",
       "      <td>False</td>\n",
       "      <td>False</td>\n",
       "      <td>False</td>\n",
       "      <td>False</td>\n",
       "      <td>False</td>\n",
       "    </tr>\n",
       "    <tr>\n",
       "      <th>134</th>\n",
       "      <td>False</td>\n",
       "      <td>True</td>\n",
       "      <td>True</td>\n",
       "      <td>True</td>\n",
       "      <td>False</td>\n",
       "    </tr>\n",
       "  </tbody>\n",
       "</table>\n",
       "<p>135 rows × 5 columns</p>\n",
       "</div>"
      ],
      "text/plain": [
       "      Year  CSIRO Adjusted Sea Level  Lower Error Bound  Upper Error Bound  \\\n",
       "0    False                     False              False              False   \n",
       "1    False                     False              False              False   \n",
       "2    False                     False              False              False   \n",
       "3    False                     False              False              False   \n",
       "4    False                     False              False              False   \n",
       "..     ...                       ...                ...                ...   \n",
       "130  False                     False              False              False   \n",
       "131  False                     False              False              False   \n",
       "132  False                     False              False              False   \n",
       "133  False                     False              False              False   \n",
       "134  False                      True               True               True   \n",
       "\n",
       "     NOAA Adjusted Sea Level  \n",
       "0                       True  \n",
       "1                       True  \n",
       "2                       True  \n",
       "3                       True  \n",
       "4                       True  \n",
       "..                       ...  \n",
       "130                    False  \n",
       "131                    False  \n",
       "132                    False  \n",
       "133                    False  \n",
       "134                    False  \n",
       "\n",
       "[135 rows x 5 columns]"
      ]
     },
     "execution_count": 23,
     "metadata": {},
     "output_type": "execute_result"
    }
   ],
   "source": [
    "df.isnull()"
   ]
  },
  {
   "cell_type": "markdown",
   "id": "1dc88b0b",
   "metadata": {},
   "source": [
    "## Filling empty data's with 0\n",
    "here we are filling empty/null data with the value 0 "
   ]
  },
  {
   "cell_type": "code",
   "execution_count": 24,
   "id": "834ae4a3",
   "metadata": {},
   "outputs": [],
   "source": [
    "df= df.fillna(0)"
   ]
  },
  {
   "cell_type": "markdown",
   "id": "32304d2a",
   "metadata": {},
   "source": [
    "## Checking for duplicates \n",
    "we are checking to see if there are duplicates in our dataset"
   ]
  },
  {
   "cell_type": "code",
   "execution_count": 25,
   "id": "f521b81d",
   "metadata": {},
   "outputs": [
    {
     "data": {
      "text/plain": [
       "0"
      ]
     },
     "execution_count": 25,
     "metadata": {},
     "output_type": "execute_result"
    }
   ],
   "source": [
    "df.duplicated()\n",
    "\n",
    "df.duplicated().sum()"
   ]
  },
  {
   "cell_type": "markdown",
   "id": "5a3c1ab0",
   "metadata": {},
   "source": [
    "## Convert the year from object to pandas year format\n",
    "as we noticed from when we were gathering the general info that the  year is classified as an object. we have to change that to standard pandas datetime format"
   ]
  },
  {
   "cell_type": "code",
   "execution_count": 60,
   "id": "29868f0b",
   "metadata": {},
   "outputs": [
    {
     "data": {
      "text/plain": [
       "0      1880-03-15\n",
       "1      1881-03-15\n",
       "2      1882-03-15\n",
       "3      1883-03-15\n",
       "4      1884-03-15\n",
       "          ...    \n",
       "130    2010-03-15\n",
       "131    2011-03-15\n",
       "132    2012-03-15\n",
       "133    2013-03-15\n",
       "134    2014-03-15\n",
       "Name: Year, Length: 135, dtype: object"
      ]
     },
     "execution_count": 60,
     "metadata": {},
     "output_type": "execute_result"
    }
   ],
   "source": [
    "df['Year']"
   ]
  },
  {
   "cell_type": "code",
   "execution_count": 61,
   "id": "e23b53e0",
   "metadata": {},
   "outputs": [
    {
     "data": {
      "text/plain": [
       "0     1880-03-15\n",
       "1     1881-03-15\n",
       "2     1882-03-15\n",
       "3     1883-03-15\n",
       "4     1884-03-15\n",
       "         ...    \n",
       "130   2010-03-15\n",
       "131   2011-03-15\n",
       "132   2012-03-15\n",
       "133   2013-03-15\n",
       "134   2014-03-15\n",
       "Name: Year, Length: 135, dtype: datetime64[ns]"
      ]
     },
     "execution_count": 61,
     "metadata": {},
     "output_type": "execute_result"
    }
   ],
   "source": [
    "df['Year']= pd.to_datetime(df['Year'])\n",
    "\n",
    "df['Year']"
   ]
  },
  {
   "cell_type": "code",
   "execution_count": 62,
   "id": "81b7535b",
   "metadata": {},
   "outputs": [
    {
     "data": {
      "text/html": [
       "<div>\n",
       "<style scoped>\n",
       "    .dataframe tbody tr th:only-of-type {\n",
       "        vertical-align: middle;\n",
       "    }\n",
       "\n",
       "    .dataframe tbody tr th {\n",
       "        vertical-align: top;\n",
       "    }\n",
       "\n",
       "    .dataframe thead th {\n",
       "        text-align: right;\n",
       "    }\n",
       "</style>\n",
       "<table border=\"1\" class=\"dataframe\">\n",
       "  <thead>\n",
       "    <tr style=\"text-align: right;\">\n",
       "      <th></th>\n",
       "      <th>Year</th>\n",
       "      <th>CSIRO Adjusted Sea Level</th>\n",
       "      <th>Lower Error Bound</th>\n",
       "      <th>Upper Error Bound</th>\n",
       "      <th>NOAA Adjusted Sea Level</th>\n",
       "    </tr>\n",
       "  </thead>\n",
       "  <tbody>\n",
       "    <tr>\n",
       "      <th>0</th>\n",
       "      <td>1880-03-15</td>\n",
       "      <td>0.000000</td>\n",
       "      <td>-0.952756</td>\n",
       "      <td>0.952756</td>\n",
       "      <td>NaN</td>\n",
       "    </tr>\n",
       "    <tr>\n",
       "      <th>1</th>\n",
       "      <td>1881-03-15</td>\n",
       "      <td>0.220472</td>\n",
       "      <td>-0.732283</td>\n",
       "      <td>1.173228</td>\n",
       "      <td>NaN</td>\n",
       "    </tr>\n",
       "    <tr>\n",
       "      <th>2</th>\n",
       "      <td>1882-03-15</td>\n",
       "      <td>-0.440945</td>\n",
       "      <td>-1.346457</td>\n",
       "      <td>0.464567</td>\n",
       "      <td>NaN</td>\n",
       "    </tr>\n",
       "    <tr>\n",
       "      <th>3</th>\n",
       "      <td>1883-03-15</td>\n",
       "      <td>-0.232283</td>\n",
       "      <td>-1.129921</td>\n",
       "      <td>0.665354</td>\n",
       "      <td>NaN</td>\n",
       "    </tr>\n",
       "    <tr>\n",
       "      <th>4</th>\n",
       "      <td>1884-03-15</td>\n",
       "      <td>0.590551</td>\n",
       "      <td>-0.283465</td>\n",
       "      <td>1.464567</td>\n",
       "      <td>NaN</td>\n",
       "    </tr>\n",
       "    <tr>\n",
       "      <th>...</th>\n",
       "      <td>...</td>\n",
       "      <td>...</td>\n",
       "      <td>...</td>\n",
       "      <td>...</td>\n",
       "      <td>...</td>\n",
       "    </tr>\n",
       "    <tr>\n",
       "      <th>130</th>\n",
       "      <td>2010-03-15</td>\n",
       "      <td>8.901575</td>\n",
       "      <td>8.618110</td>\n",
       "      <td>9.185039</td>\n",
       "      <td>8.122973</td>\n",
       "    </tr>\n",
       "    <tr>\n",
       "      <th>131</th>\n",
       "      <td>2011-03-15</td>\n",
       "      <td>8.964567</td>\n",
       "      <td>8.661417</td>\n",
       "      <td>9.267717</td>\n",
       "      <td>8.053065</td>\n",
       "    </tr>\n",
       "    <tr>\n",
       "      <th>132</th>\n",
       "      <td>2012-03-15</td>\n",
       "      <td>9.326772</td>\n",
       "      <td>8.992126</td>\n",
       "      <td>9.661417</td>\n",
       "      <td>8.457058</td>\n",
       "    </tr>\n",
       "    <tr>\n",
       "      <th>133</th>\n",
       "      <td>2013-03-15</td>\n",
       "      <td>8.980315</td>\n",
       "      <td>8.622047</td>\n",
       "      <td>9.338583</td>\n",
       "      <td>8.546648</td>\n",
       "    </tr>\n",
       "    <tr>\n",
       "      <th>134</th>\n",
       "      <td>2014-03-15</td>\n",
       "      <td>NaN</td>\n",
       "      <td>NaN</td>\n",
       "      <td>NaN</td>\n",
       "      <td>8.663700</td>\n",
       "    </tr>\n",
       "  </tbody>\n",
       "</table>\n",
       "<p>135 rows × 5 columns</p>\n",
       "</div>"
      ],
      "text/plain": [
       "          Year  CSIRO Adjusted Sea Level  Lower Error Bound  \\\n",
       "0   1880-03-15                  0.000000          -0.952756   \n",
       "1   1881-03-15                  0.220472          -0.732283   \n",
       "2   1882-03-15                 -0.440945          -1.346457   \n",
       "3   1883-03-15                 -0.232283          -1.129921   \n",
       "4   1884-03-15                  0.590551          -0.283465   \n",
       "..         ...                       ...                ...   \n",
       "130 2010-03-15                  8.901575           8.618110   \n",
       "131 2011-03-15                  8.964567           8.661417   \n",
       "132 2012-03-15                  9.326772           8.992126   \n",
       "133 2013-03-15                  8.980315           8.622047   \n",
       "134 2014-03-15                       NaN                NaN   \n",
       "\n",
       "     Upper Error Bound  NOAA Adjusted Sea Level  \n",
       "0             0.952756                      NaN  \n",
       "1             1.173228                      NaN  \n",
       "2             0.464567                      NaN  \n",
       "3             0.665354                      NaN  \n",
       "4             1.464567                      NaN  \n",
       "..                 ...                      ...  \n",
       "130           9.185039                 8.122973  \n",
       "131           9.267717                 8.053065  \n",
       "132           9.661417                 8.457058  \n",
       "133           9.338583                 8.546648  \n",
       "134                NaN                 8.663700  \n",
       "\n",
       "[135 rows x 5 columns]"
      ]
     },
     "execution_count": 62,
     "metadata": {},
     "output_type": "execute_result"
    }
   ],
   "source": [
    "df"
   ]
  },
  {
   "cell_type": "markdown",
   "id": "78082c60",
   "metadata": {},
   "source": [
    "## Visualising My Data in Plot"
   ]
  },
  {
   "cell_type": "code",
   "execution_count": 86,
   "id": "67a47b89",
   "metadata": {},
   "outputs": [
    {
     "data": {
      "text/plain": [
       "[<matplotlib.lines.Line2D at 0x236c8c42770>]"
      ]
     },
     "execution_count": 86,
     "metadata": {},
     "output_type": "execute_result"
    },
    {
     "data": {
      "image/png": "[encoded data removed]",
      "text/plain": [
       "<Figure size 640x480 with 1 Axes>"
      ]
     },
     "metadata": {},
     "output_type": "display_data"
    }
   ],
   "source": [
    "year= df['Year']\n",
    "csiro= df['CSIRO Adjusted Sea Level']\n",
    "\n",
    "\n",
    "\n",
    "#add labels\n",
    "plt.xlabel('Year', color='blue')\n",
    "plt.ylabel('Sea Level (inches)', color='green')\n",
    "plt.title('Rise in Sea Level')\n",
    "\n",
    "\n",
    "#create scatter plot\n",
    "#plt.scatter(year, csiro, color='blue')\n",
    "plt.plot(year, csiro, color='red')"
   ]
  }
 ],
 "metadata": {
  "kernelspec": {
   "display_name": "Python 3 (ipykernel)",
   "language": "python",
   "name": "python3"
  },
  "language_info": {
   "codemirror_mode": {
    "name": "ipython",
    "version": 3
   },
   "file_extension": ".py",
   "mimetype": "text/x-python",
   "name": "python",
   "nbconvert_exporter": "python",
   "pygments_lexer": "ipython3",
   "version": "3.10.0"
  }
 },
 "nbformat": 4,
 "nbformat_minor": 5
}
